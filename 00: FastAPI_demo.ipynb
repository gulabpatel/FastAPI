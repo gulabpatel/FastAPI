{
  "nbformat": 4,
  "nbformat_minor": 0,
  "metadata": {
    "colab": {
      "name": "00: FastAPI_demo.ipynb",
      "provenance": [],
      "authorship_tag": "ABX9TyNZqo1uup8EVnb3p78D+qZc",
      "include_colab_link": true
    },
    "kernelspec": {
      "name": "python3",
      "display_name": "Python 3"
    },
    "language_info": {
      "name": "python"
    }
  },
  "cells": [
    {
      "cell_type": "markdown",
      "metadata": {
        "id": "view-in-github",
        "colab_type": "text"
      },
      "source": [
        "<a href=\"https://colab.research.google.com/github/gulabpatel/FastAPI/blob/main/00%3A%20FastAPI_demo.ipynb\" target=\"_parent\"><img src=\"https://colab.research.google.com/assets/colab-badge.svg\" alt=\"Open In Colab\"/></a>"
      ]
    },
    {
      "cell_type": "markdown",
      "metadata": {
        "id": "SsRTBpimMcMM"
      },
      "source": [
        "Code walkthrough :\n",
        "\n",
        "1. https://www.youtube.com/watch?v=WU65u9d-97c\n",
        "2. https://www.youtube.com/watch?v=b5F667g1yCk&t=18s"
      ]
    },
    {
      "cell_type": "code",
      "metadata": {
        "id": "V8d7AtXWC4i4"
      },
      "source": [
        "!pip install uvicorn fastapi colabcode"
      ],
      "execution_count": null,
      "outputs": []
    },
    {
      "cell_type": "code",
      "metadata": {
        "colab": {
          "base_uri": "https://localhost:8080/"
        },
        "id": "BIvEuxeCEMpt",
        "outputId": "a1a884ec-f1cc-4dde-8e12-4e857548c110"
      },
      "source": [
        "%%writefile BankNotes.py\n",
        "from pydantic import BaseModel\n",
        "# 2. Class which describes Bank Notes measurements\n",
        "class BankNote(BaseModel):\n",
        "    variance: float \n",
        "    skewness: float \n",
        "    curtosis: float \n",
        "    entropy: float"
      ],
      "execution_count": 2,
      "outputs": [
        {
          "output_type": "stream",
          "text": [
            "Writing BankNotes.py\n"
          ],
          "name": "stdout"
        }
      ]
    },
    {
      "cell_type": "code",
      "metadata": {
        "id": "ZnCPATMQGPBl"
      },
      "source": [
        "from colabcode import ColabCode\n",
        "from fastapi import FastAPI\n",
        "cc = ColabCode(port=12000, code=False)"
      ],
      "execution_count": 3,
      "outputs": []
    },
    {
      "cell_type": "markdown",
      "metadata": {
        "id": "EA9zdKYQHgnG"
      },
      "source": [
        "Build Model"
      ]
    },
    {
      "cell_type": "code",
      "metadata": {
        "id": "jQ_sfX9xHgHG"
      },
      "source": [
        "import pandas as pd\n",
        "import numpy as np\n",
        "df=pd.read_csv('https://raw.githubusercontent.com/gulabpatel/FastAPI/master/dataset/BankNote_Authentication.txt')\n",
        "\n",
        "### Independent and Dependent features\n",
        "X=df.iloc[:,:-1]\n",
        "y=df.iloc[:,-1]\n",
        "\n",
        "### Train Test Split\n",
        "from sklearn.model_selection import train_test_split\n",
        "X_train,X_test,y_train,y_test=train_test_split(X,y,test_size=0.3,random_state=0)\n",
        "\n",
        "### Implement Random Forest classifier\n",
        "from sklearn.ensemble import RandomForestClassifier\n",
        "classifier=RandomForestClassifier()\n",
        "classifier.fit(X_train,y_train)\n",
        "\n",
        "## Prediction\n",
        "y_pred=classifier.predict(X_test)\n",
        "\n",
        "### Check Accuracy\n",
        "from sklearn.metrics import accuracy_score\n",
        "score=accuracy_score(y_test,y_pred)\n",
        "\n",
        "### Create a Pickle file using serialization \n",
        "import pickle\n",
        "pickle_out = open(\"classifier.pkl\",\"wb\")\n",
        "pickle.dump(classifier, pickle_out)"
      ],
      "execution_count": 4,
      "outputs": []
    },
    {
      "cell_type": "code",
      "metadata": {
        "id": "aL1VBPv3CrjS"
      },
      "source": [
        "import uvicorn\n",
        "from BankNotes import BankNote\n",
        "import numpy as np\n",
        "import pickle\n",
        "import pandas as pd\n",
        "# 2. Create the app object\n",
        "app = FastAPI()\n",
        "pickle_in = open(\"classifier.pkl\",\"rb\")\n",
        "classifier=pickle.load(pickle_in)\n",
        "\n",
        "# 3. Index route\n",
        "@app.get('/')\n",
        "def index():\n",
        "    return {'message': 'Hello, World'}\n",
        "\n",
        "\n",
        "@app.get('/{name}')\n",
        "def get_name(name: str):\n",
        "    return {'Welcome! To Future of AI': f'{name}'}\n",
        "\n",
        "# 3. Expose the prediction functionality, make a prediction from the passed\n",
        "#    JSON data and return the predicted Bank Note with the confidence\n",
        "@app.post('/predict')\n",
        "def predict_banknote(data:BankNote):\n",
        "    data = data.dict()\n",
        "    variance=data['variance']\n",
        "    skewness=data['skewness']\n",
        "    curtosis=data['curtosis']\n",
        "    entropy=data['entropy']\n",
        "   # print(classifier.predict([[variance,skewness,curtosis,entropy]]))\n",
        "    prediction = classifier.predict([[variance,skewness,curtosis,entropy]])\n",
        "    if(prediction[0]>0.5):\n",
        "        prediction=\"Fake note\"\n",
        "    else:\n",
        "        prediction=\"Its a Bank note\"\n",
        "    return {\n",
        "        'prediction': prediction\n",
        "    }\n"
      ],
      "execution_count": 6,
      "outputs": []
    },
    {
      "cell_type": "code",
      "metadata": {
        "colab": {
          "base_uri": "https://localhost:8080/"
        },
        "id": "O6yb3mFgG7mW",
        "outputId": "e9b6893a-b69c-4a4b-ca69-c39022498170"
      },
      "source": [
        "cc.run_app(app=app) "
      ],
      "execution_count": null,
      "outputs": [
        {
          "output_type": "stream",
          "text": [
            "INFO:     Started server process [768]\n",
            "INFO:     Waiting for application startup.\n",
            "INFO:     Application startup complete.\n",
            "INFO:     Uvicorn running on http://127.0.0.1:12000 (Press CTRL+C to quit)\n"
          ],
          "name": "stderr"
        },
        {
          "output_type": "stream",
          "text": [
            "Public URL: NgrokTunnel: \"https://bc28baaf9b10.ngrok.io\" -> \"http://localhost:12000\"\n"
          ],
          "name": "stdout"
        }
      ]
    }
  ]
}